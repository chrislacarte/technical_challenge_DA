{
 "cells": [
  {
   "cell_type": "code",
   "execution_count": 43,
   "id": "5f1e8249",
   "metadata": {},
   "outputs": [],
   "source": [
    "import pandas as pd\n",
    "import numpy as np\n",
    "from scipy import stats\n",
    "import matplotlib.pyplot as plt\n",
    "import seaborn as sns\n",
    "from sklearn.preprocessing import OneHotEncoder\n",
    "from sklearn.preprocessing import MinMaxScaler\n",
    "from sklearn.model_selection import train_test_split as tts\n",
    "from sklearn.linear_model import LinearRegression \n",
    "from sklearn.tree import DecisionTreeRegressor \n",
    "from sklearn.neighbors import KNeighborsRegressor\n",
    "from sklearn.metrics import mean_squared_error\n",
    "from sklearn.metrics import r2_score\n",
    "from sklearn import metrics \n",
    "\n",
    "import warnings\n",
    "warnings.filterwarnings('ignore')\n"
   ]
  },
  {
   "cell_type": "markdown",
   "id": "3fca2769",
   "metadata": {},
   "source": [
    "Import the data set "
   ]
  },
  {
   "cell_type": "code",
   "execution_count": 44,
   "id": "89c80436",
   "metadata": {},
   "outputs": [
    {
     "data": {
      "text/html": [
       "<div>\n",
       "<style scoped>\n",
       "    .dataframe tbody tr th:only-of-type {\n",
       "        vertical-align: middle;\n",
       "    }\n",
       "\n",
       "    .dataframe tbody tr th {\n",
       "        vertical-align: top;\n",
       "    }\n",
       "\n",
       "    .dataframe thead th {\n",
       "        text-align: right;\n",
       "    }\n",
       "</style>\n",
       "<table border=\"1\" class=\"dataframe\">\n",
       "  <thead>\n",
       "    <tr style=\"text-align: right;\">\n",
       "      <th></th>\n",
       "      <th>distance</th>\n",
       "      <th>consume</th>\n",
       "      <th>speed</th>\n",
       "      <th>temp_inside</th>\n",
       "      <th>temp_outside</th>\n",
       "      <th>gas_type</th>\n",
       "      <th>ac</th>\n",
       "      <th>rain</th>\n",
       "      <th>sun</th>\n",
       "      <th>fuel_use</th>\n",
       "      <th>cost_trip</th>\n",
       "      <th>trip_time</th>\n",
       "      <th>avg_speed</th>\n",
       "    </tr>\n",
       "  </thead>\n",
       "  <tbody>\n",
       "    <tr>\n",
       "      <th>0</th>\n",
       "      <td>28.0</td>\n",
       "      <td>5.0</td>\n",
       "      <td>26</td>\n",
       "      <td>21.5</td>\n",
       "      <td>12</td>\n",
       "      <td>E10</td>\n",
       "      <td>0</td>\n",
       "      <td>0</td>\n",
       "      <td>0</td>\n",
       "      <td>1.4000</td>\n",
       "      <td>2.84</td>\n",
       "      <td>0.433333</td>\n",
       "      <td>64.615385</td>\n",
       "    </tr>\n",
       "    <tr>\n",
       "      <th>1</th>\n",
       "      <td>12.0</td>\n",
       "      <td>4.2</td>\n",
       "      <td>30</td>\n",
       "      <td>21.5</td>\n",
       "      <td>13</td>\n",
       "      <td>E10</td>\n",
       "      <td>0</td>\n",
       "      <td>0</td>\n",
       "      <td>0</td>\n",
       "      <td>0.5040</td>\n",
       "      <td>1.02</td>\n",
       "      <td>0.500000</td>\n",
       "      <td>24.000000</td>\n",
       "    </tr>\n",
       "    <tr>\n",
       "      <th>2</th>\n",
       "      <td>11.2</td>\n",
       "      <td>5.5</td>\n",
       "      <td>38</td>\n",
       "      <td>21.5</td>\n",
       "      <td>15</td>\n",
       "      <td>E10</td>\n",
       "      <td>0</td>\n",
       "      <td>0</td>\n",
       "      <td>0</td>\n",
       "      <td>0.6160</td>\n",
       "      <td>1.25</td>\n",
       "      <td>0.633333</td>\n",
       "      <td>17.684211</td>\n",
       "    </tr>\n",
       "    <tr>\n",
       "      <th>3</th>\n",
       "      <td>12.9</td>\n",
       "      <td>3.9</td>\n",
       "      <td>36</td>\n",
       "      <td>21.5</td>\n",
       "      <td>14</td>\n",
       "      <td>E10</td>\n",
       "      <td>0</td>\n",
       "      <td>0</td>\n",
       "      <td>0</td>\n",
       "      <td>0.5031</td>\n",
       "      <td>1.02</td>\n",
       "      <td>0.600000</td>\n",
       "      <td>21.500000</td>\n",
       "    </tr>\n",
       "    <tr>\n",
       "      <th>4</th>\n",
       "      <td>18.5</td>\n",
       "      <td>4.5</td>\n",
       "      <td>46</td>\n",
       "      <td>21.5</td>\n",
       "      <td>15</td>\n",
       "      <td>E10</td>\n",
       "      <td>0</td>\n",
       "      <td>0</td>\n",
       "      <td>0</td>\n",
       "      <td>0.8325</td>\n",
       "      <td>1.69</td>\n",
       "      <td>0.766667</td>\n",
       "      <td>24.130435</td>\n",
       "    </tr>\n",
       "  </tbody>\n",
       "</table>\n",
       "</div>"
      ],
      "text/plain": [
       "   distance  consume  speed  temp_inside  temp_outside gas_type  ac  rain  \\\n",
       "0      28.0      5.0     26         21.5            12      E10   0     0   \n",
       "1      12.0      4.2     30         21.5            13      E10   0     0   \n",
       "2      11.2      5.5     38         21.5            15      E10   0     0   \n",
       "3      12.9      3.9     36         21.5            14      E10   0     0   \n",
       "4      18.5      4.5     46         21.5            15      E10   0     0   \n",
       "\n",
       "   sun  fuel_use  cost_trip  trip_time  avg_speed  \n",
       "0    0    1.4000       2.84   0.433333  64.615385  \n",
       "1    0    0.5040       1.02   0.500000  24.000000  \n",
       "2    0    0.6160       1.25   0.633333  17.684211  \n",
       "3    0    0.5031       1.02   0.600000  21.500000  \n",
       "4    0    0.8325       1.69   0.766667  24.130435  "
      ]
     },
     "execution_count": 44,
     "metadata": {},
     "output_type": "execute_result"
    }
   ],
   "source": [
    "data = pd.read_csv('Cobify_clean_data.csv')\n",
    "data.head()"
   ]
  },
  {
   "cell_type": "code",
   "execution_count": 45,
   "id": "7cd0f5c1",
   "metadata": {},
   "outputs": [
    {
     "data": {
      "image/png": "[encoded data removed]",
      "text/plain": [
       "<Figure size 720x576 with 2 Axes>"
      ]
     },
     "metadata": {
      "needs_background": "light"
     },
     "output_type": "display_data"
    }
   ],
   "source": [
    "correlations = data.corr()\n",
    "fig, ax=plt.subplots(figsize=(10,8))\n",
    "ax=sns.heatmap(correlations, annot=True)\n",
    "plt.show()"
   ]
  },
  {
   "cell_type": "code",
   "execution_count": 46,
   "id": "5d5149e4",
   "metadata": {},
   "outputs": [
    {
     "data": {
      "text/html": [
       "<div>\n",
       "<style scoped>\n",
       "    .dataframe tbody tr th:only-of-type {\n",
       "        vertical-align: middle;\n",
       "    }\n",
       "\n",
       "    .dataframe tbody tr th {\n",
       "        vertical-align: top;\n",
       "    }\n",
       "\n",
       "    .dataframe thead th {\n",
       "        text-align: right;\n",
       "    }\n",
       "</style>\n",
       "<table border=\"1\" class=\"dataframe\">\n",
       "  <thead>\n",
       "    <tr style=\"text-align: right;\">\n",
       "      <th></th>\n",
       "      <th>distance</th>\n",
       "      <th>consume</th>\n",
       "      <th>speed</th>\n",
       "      <th>temp_inside</th>\n",
       "      <th>temp_outside</th>\n",
       "      <th>gas_type</th>\n",
       "      <th>ac</th>\n",
       "      <th>rain</th>\n",
       "      <th>sun</th>\n",
       "      <th>trip_time</th>\n",
       "    </tr>\n",
       "  </thead>\n",
       "  <tbody>\n",
       "    <tr>\n",
       "      <th>0</th>\n",
       "      <td>28.0</td>\n",
       "      <td>5.0</td>\n",
       "      <td>26</td>\n",
       "      <td>21.5</td>\n",
       "      <td>12</td>\n",
       "      <td>E10</td>\n",
       "      <td>0</td>\n",
       "      <td>0</td>\n",
       "      <td>0</td>\n",
       "      <td>0.433333</td>\n",
       "    </tr>\n",
       "    <tr>\n",
       "      <th>1</th>\n",
       "      <td>12.0</td>\n",
       "      <td>4.2</td>\n",
       "      <td>30</td>\n",
       "      <td>21.5</td>\n",
       "      <td>13</td>\n",
       "      <td>E10</td>\n",
       "      <td>0</td>\n",
       "      <td>0</td>\n",
       "      <td>0</td>\n",
       "      <td>0.500000</td>\n",
       "    </tr>\n",
       "    <tr>\n",
       "      <th>2</th>\n",
       "      <td>11.2</td>\n",
       "      <td>5.5</td>\n",
       "      <td>38</td>\n",
       "      <td>21.5</td>\n",
       "      <td>15</td>\n",
       "      <td>E10</td>\n",
       "      <td>0</td>\n",
       "      <td>0</td>\n",
       "      <td>0</td>\n",
       "      <td>0.633333</td>\n",
       "    </tr>\n",
       "    <tr>\n",
       "      <th>3</th>\n",
       "      <td>12.9</td>\n",
       "      <td>3.9</td>\n",
       "      <td>36</td>\n",
       "      <td>21.5</td>\n",
       "      <td>14</td>\n",
       "      <td>E10</td>\n",
       "      <td>0</td>\n",
       "      <td>0</td>\n",
       "      <td>0</td>\n",
       "      <td>0.600000</td>\n",
       "    </tr>\n",
       "    <tr>\n",
       "      <th>4</th>\n",
       "      <td>18.5</td>\n",
       "      <td>4.5</td>\n",
       "      <td>46</td>\n",
       "      <td>21.5</td>\n",
       "      <td>15</td>\n",
       "      <td>E10</td>\n",
       "      <td>0</td>\n",
       "      <td>0</td>\n",
       "      <td>0</td>\n",
       "      <td>0.766667</td>\n",
       "    </tr>\n",
       "    <tr>\n",
       "      <th>...</th>\n",
       "      <td>...</td>\n",
       "      <td>...</td>\n",
       "      <td>...</td>\n",
       "      <td>...</td>\n",
       "      <td>...</td>\n",
       "      <td>...</td>\n",
       "      <td>...</td>\n",
       "      <td>...</td>\n",
       "      <td>...</td>\n",
       "      <td>...</td>\n",
       "    </tr>\n",
       "    <tr>\n",
       "      <th>383</th>\n",
       "      <td>16.0</td>\n",
       "      <td>3.7</td>\n",
       "      <td>39</td>\n",
       "      <td>24.5</td>\n",
       "      <td>18</td>\n",
       "      <td>SP98</td>\n",
       "      <td>0</td>\n",
       "      <td>0</td>\n",
       "      <td>0</td>\n",
       "      <td>0.650000</td>\n",
       "    </tr>\n",
       "    <tr>\n",
       "      <th>384</th>\n",
       "      <td>16.1</td>\n",
       "      <td>4.3</td>\n",
       "      <td>38</td>\n",
       "      <td>25.0</td>\n",
       "      <td>31</td>\n",
       "      <td>SP98</td>\n",
       "      <td>1</td>\n",
       "      <td>0</td>\n",
       "      <td>0</td>\n",
       "      <td>0.633333</td>\n",
       "    </tr>\n",
       "    <tr>\n",
       "      <th>385</th>\n",
       "      <td>16.0</td>\n",
       "      <td>3.8</td>\n",
       "      <td>45</td>\n",
       "      <td>25.0</td>\n",
       "      <td>19</td>\n",
       "      <td>SP98</td>\n",
       "      <td>0</td>\n",
       "      <td>0</td>\n",
       "      <td>0</td>\n",
       "      <td>0.750000</td>\n",
       "    </tr>\n",
       "    <tr>\n",
       "      <th>386</th>\n",
       "      <td>15.4</td>\n",
       "      <td>4.6</td>\n",
       "      <td>42</td>\n",
       "      <td>25.0</td>\n",
       "      <td>31</td>\n",
       "      <td>SP98</td>\n",
       "      <td>1</td>\n",
       "      <td>0</td>\n",
       "      <td>0</td>\n",
       "      <td>0.700000</td>\n",
       "    </tr>\n",
       "    <tr>\n",
       "      <th>387</th>\n",
       "      <td>14.7</td>\n",
       "      <td>5.0</td>\n",
       "      <td>25</td>\n",
       "      <td>25.0</td>\n",
       "      <td>30</td>\n",
       "      <td>SP98</td>\n",
       "      <td>1</td>\n",
       "      <td>0</td>\n",
       "      <td>0</td>\n",
       "      <td>0.416667</td>\n",
       "    </tr>\n",
       "  </tbody>\n",
       "</table>\n",
       "<p>388 rows × 10 columns</p>\n",
       "</div>"
      ],
      "text/plain": [
       "     distance  consume  speed  temp_inside  temp_outside gas_type  ac  rain  \\\n",
       "0        28.0      5.0     26         21.5            12      E10   0     0   \n",
       "1        12.0      4.2     30         21.5            13      E10   0     0   \n",
       "2        11.2      5.5     38         21.5            15      E10   0     0   \n",
       "3        12.9      3.9     36         21.5            14      E10   0     0   \n",
       "4        18.5      4.5     46         21.5            15      E10   0     0   \n",
       "..        ...      ...    ...          ...           ...      ...  ..   ...   \n",
       "383      16.0      3.7     39         24.5            18     SP98   0     0   \n",
       "384      16.1      4.3     38         25.0            31     SP98   1     0   \n",
       "385      16.0      3.8     45         25.0            19     SP98   0     0   \n",
       "386      15.4      4.6     42         25.0            31     SP98   1     0   \n",
       "387      14.7      5.0     25         25.0            30     SP98   1     0   \n",
       "\n",
       "     sun  trip_time  \n",
       "0      0   0.433333  \n",
       "1      0   0.500000  \n",
       "2      0   0.633333  \n",
       "3      0   0.600000  \n",
       "4      0   0.766667  \n",
       "..   ...        ...  \n",
       "383    0   0.650000  \n",
       "384    0   0.633333  \n",
       "385    0   0.750000  \n",
       "386    0   0.700000  \n",
       "387    0   0.416667  \n",
       "\n",
       "[388 rows x 10 columns]"
      ]
     },
     "execution_count": 46,
     "metadata": {},
     "output_type": "execute_result"
    }
   ],
   "source": [
    "# High multicolinearity on the created features, I drop them\n",
    "cols_drop = ['cost_trip','fuel_use','avg_speed']\n",
    "data=data.drop(cols_drop,axis=1)\n",
    "data"
   ]
  },
  {
   "cell_type": "markdown",
   "id": "cf94f2aa",
   "metadata": {},
   "source": [
    "Let's see which fuel's consumption can be predicted more accurately "
   ]
  },
  {
   "cell_type": "code",
   "execution_count": 47,
   "id": "f940c408",
   "metadata": {},
   "outputs": [],
   "source": [
    "# E10\n",
    "df_e10 = data[data.gas_type=='E10']\n",
    "# SP98\n",
    "df_98 = data[data.gas_type=='SP98']"
   ]
  },
  {
   "cell_type": "markdown",
   "id": "1d38874c",
   "metadata": {},
   "source": [
    "# E10"
   ]
  },
  {
   "cell_type": "code",
   "execution_count": 48,
   "id": "adbac55b",
   "metadata": {},
   "outputs": [],
   "source": [
    "# X / y split:\n",
    "X = df_e10.drop('consume',axis=1)\n",
    "y = df_e10['consume']\n",
    "\n",
    "# Train/Test split: \n",
    "X_train, X_test, y_train, y_test = tts(X, y, test_size=0.2)"
   ]
  },
  {
   "cell_type": "code",
   "execution_count": 49,
   "id": "ddbb2f3f",
   "metadata": {},
   "outputs": [],
   "source": [
    "X_train_num = X_train.select_dtypes(np.number)\n",
    "X_train_cat = X_train.select_dtypes(object)\n",
    "X_test_num = X_test.select_dtypes(np.number)\n",
    "X_test_cat = X_test.select_dtypes(object)"
   ]
  },
  {
   "cell_type": "markdown",
   "id": "3f22bef9",
   "metadata": {},
   "source": [
    "Scaling of numerical Data "
   ]
  },
  {
   "cell_type": "code",
   "execution_count": 50,
   "id": "9b4660d4",
   "metadata": {},
   "outputs": [],
   "source": [
    "transformer = MinMaxScaler().fit(X_train_num)\n",
    "\n",
    "########### TRAIN ############\n",
    "X_train_norm = transformer.transform(X_train_num)\n",
    "X_train_num_scale = pd.DataFrame(X_train_norm, index = X_train_num.index, columns=X_train_num.columns)\n",
    "########### TEST  ############\n",
    "X_test_norm = transformer.transform(X_test_num)\n",
    "X_test_num_scale = pd.DataFrame(X_test_norm, index = X_test_num.index, columns=X_test_num.columns)"
   ]
  },
  {
   "cell_type": "code",
   "execution_count": 51,
   "id": "6d686818",
   "metadata": {},
   "outputs": [],
   "source": [
    "# Encode gas_type:\n",
    "########### TRAIN ############\n",
    "X_train_cat['gas_type']=np.where(X_train_cat['gas_type']=='E10',1,0)\n",
    "########### TEST  ############\n",
    "X_test_cat['gas_type']=np.where(X_test_cat['gas_type']=='E10',1,0)"
   ]
  },
  {
   "cell_type": "code",
   "execution_count": 52,
   "id": "3d122166",
   "metadata": {},
   "outputs": [],
   "source": [
    "# merge them back together: \n",
    "X_train = pd.concat([X_train_num,X_train_cat],axis = 1)\n",
    "X_test  = pd.concat([X_test_num,X_test_cat],axis = 1)"
   ]
  },
  {
   "cell_type": "markdown",
   "id": "d170e6e3",
   "metadata": {},
   "source": [
    "Model selection:"
   ]
  },
  {
   "cell_type": "code",
   "execution_count": 53,
   "id": "cfc36f8a",
   "metadata": {},
   "outputs": [],
   "source": [
    "# Regression models pipeline function\n",
    "def models_comparison(models, X_train, y_train):\n",
    "    for model in models:\n",
    "        model.fit(X_train, y_train)\n",
    "        print(f\"{model.__class__.__name__}: Train -> {model.score(X_train, y_train)}, Test -> {model.score(X_test, y_test)}\")"
   ]
  },
  {
   "cell_type": "code",
   "execution_count": 54,
   "id": "d5ca8770",
   "metadata": {},
   "outputs": [
    {
     "name": "stdout",
     "output_type": "stream",
     "text": [
      "LinearRegression: Train -> 0.22749931609534157, Test -> 0.012507160622945657\n",
      "KNeighborsRegressor: Train -> 0.5797808136216998, Test -> 0.19446815854570565\n",
      "DecisionTreeRegressor: Train -> 1.0, Test -> 0.24339872289018005\n"
     ]
    }
   ],
   "source": [
    "models = [LinearRegression(),KNeighborsRegressor(),DecisionTreeRegressor()]\n",
    "models_comparison(models, X_train, y_train)"
   ]
  },
  {
   "cell_type": "markdown",
   "id": "9d5dcf67",
   "metadata": {},
   "source": [
    "LinearRegression is the most accurate to predict consume for E10 fuel with 58% accuracy "
   ]
  },
  {
   "cell_type": "markdown",
   "id": "3c54b346",
   "metadata": {},
   "source": [
    "# SP98"
   ]
  },
  {
   "cell_type": "code",
   "execution_count": 55,
   "id": "f3b40665",
   "metadata": {},
   "outputs": [],
   "source": [
    "# X / y split:\n",
    "X_98 = df_98.drop('consume',axis=1)\n",
    "y_98 = df_98['consume']\n",
    "\n",
    "# Train/Test split: \n",
    "X_train_98, X_test_98, y_train_98, y_test_98 = tts(X_98, y_98, test_size=0.2)"
   ]
  },
  {
   "cell_type": "code",
   "execution_count": 56,
   "id": "0ceb1058",
   "metadata": {},
   "outputs": [],
   "source": [
    "X_train_num_98 = X_train_98.select_dtypes(np.number)\n",
    "X_train_cat_98 = X_train_98.select_dtypes(object)\n",
    "X_test_num_98 = X_test_98.select_dtypes(np.number)\n",
    "X_test_cat_98 = X_test_98.select_dtypes(object)"
   ]
  },
  {
   "cell_type": "markdown",
   "id": "58ba5b48",
   "metadata": {},
   "source": [
    "Scaling of numerical Data"
   ]
  },
  {
   "cell_type": "code",
   "execution_count": 57,
   "id": "4d506f80",
   "metadata": {},
   "outputs": [],
   "source": [
    "transformer = MinMaxScaler().fit(X_train_num_98)\n",
    "\n",
    "########### TRAIN ############\n",
    "X_train_norm_98 = transformer.transform(X_train_num_98)\n",
    "X_train_num_scale_98 = pd.DataFrame(X_train_norm_98, index = X_train_num_98.index, columns=X_train_num_98.columns)\n",
    "########### TEST  ############\n",
    "X_test_norm_98 = transformer.transform(X_test_num_98)\n",
    "X_test_num_scale_98 = pd.DataFrame(X_test_norm_98, index = X_test_num_98.index, columns=X_test_num_98.columns)"
   ]
  },
  {
   "cell_type": "code",
   "execution_count": 58,
   "id": "dabd9495",
   "metadata": {},
   "outputs": [],
   "source": [
    "# Encode gas_type:\n",
    "########### TRAIN ############\n",
    "X_train_cat_98['gas_type']=np.where(X_train_cat_98['gas_type']=='E10',1,0)\n",
    "########### TEST  ############\n",
    "X_test_cat_98['gas_type']=np.where(X_test_cat_98['gas_type']=='E10',1,0)"
   ]
  },
  {
   "cell_type": "code",
   "execution_count": 59,
   "id": "a1eb786c",
   "metadata": {},
   "outputs": [],
   "source": [
    "# merge them back together: \n",
    "X_train_98 = pd.concat([X_train_num_98,X_train_cat_98],axis = 1)\n",
    "X_test_98  = pd.concat([X_test_num_98,X_test_cat_98],axis = 1)"
   ]
  },
  {
   "cell_type": "markdown",
   "id": "1a73d05f",
   "metadata": {},
   "source": [
    "Model selection:"
   ]
  },
  {
   "cell_type": "code",
   "execution_count": 60,
   "id": "f3c4d035",
   "metadata": {},
   "outputs": [
    {
     "name": "stdout",
     "output_type": "stream",
     "text": [
      "LinearRegression: Train -> 0.1945597134539908, Test -> 0.11677325272400374\n",
      "KNeighborsRegressor: Train -> 0.6671807843884436, Test -> 0.012110682851061205\n",
      "DecisionTreeRegressor: Train -> 0.9998859317495813, Test -> 0.5457631018811484\n"
     ]
    }
   ],
   "source": [
    "models_comparison(models, X_train_98, y_train_98)"
   ]
  }
 ],
 "metadata": {
  "kernelspec": {
   "display_name": "Python 3 (ipykernel)",
   "language": "python",
   "name": "python3"
  },
  "language_info": {
   "codemirror_mode": {
    "name": "ipython",
    "version": 3
   },
   "file_extension": ".py",
   "mimetype": "text/x-python",
   "name": "python",
   "nbconvert_exporter": "python",
   "pygments_lexer": "ipython3",
   "version": "3.9.7"
  }
 },
 "nbformat": 4,
 "nbformat_minor": 5
}
